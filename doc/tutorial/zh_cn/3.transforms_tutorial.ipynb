{
 "cells": [
  {
   "cell_type": "markdown",
   "metadata": {},
   "source": [
    "转换(transform)\n",
    "==========\n",
    "\n",
    "数据并不总是以训练机器学习算法所需的最终处理形式呈现。我们使用**transform**来对数据进行一些处理，使其适用于训练。\n",
    "\n",
    "所有 TorchVision 数据集都有两个参数 - `transform` 用于修改特征，`target_transform` 用于修改标签 - 它们接受包含转换逻辑的可调用对象。[torchvision.transforms](https://pytorch.org/vision/stable/transforms.html) 模块提供了几种常用的转换。\n",
    "\n",
    "FashionMNIST 的特征是以 PIL 图像格式呈现的，标签是整数。对于训练，我们需要将特征转换为归一化的张量，将标签转换为编码的张量。为了进行这些转换，我们使用了 `ToTensor` 和 `Lambda`。"
   ]
  },
  {
   "cell_type": "code",
   "execution_count": null,
   "metadata": {
    "collapsed": false
   },
   "outputs": [],
   "source": [
    "import torch\n",
    "from torchvision import datasets\n",
    "from torchvision.transforms import ToTensor, Lambda\n",
    "\n",
    "ds = datasets.FashionMNIST(\n",
    "    root=\"data\",\n",
    "    train=True,\n",
    "    download=True,\n",
    "    transform=ToTensor(),\n",
    "    target_transform=Lambda(lambda y: torch.zeros(10, dtype=torch.float).scatter_(0, torch.tensor(y), value=1))\n",
    ")"
   ]
  },
  {
   "cell_type": "markdown",
   "metadata": {},
   "source": [
    "ToTensor()\n",
    "==========\n",
    "\n",
    "[ToTensor](https://pytorch.org/vision/stable/transforms.html#torchvision.transforms.ToTensor) 将 PIL 图像或 NumPy `ndarray` 转换为 `FloatTensor`，并将图像的像素强度值缩放到范围 \\[0., 1.\\]。"
   ]
  },
  {
   "cell_type": "markdown",
   "metadata": {},
   "source": [
    "Lambda 转换\n",
    "=================\n",
    "\n",
    "Lambda 转换应用任何用户定义的 lambda 函数。这里，我们定义一个函数将整数转换为独热编码的张量。它首先创建一个大小为 10（我们数据集中标签的数量）的零张量，然后调用 [scatter\\_](https://pytorch.org/docs/stable/generated/torch.Tensor.scatter_.html)，在由标签 `y` 指定的索引上赋值为 `1`。"
   ]
  },
  {
   "cell_type": "code",
   "execution_count": null,
   "metadata": {
    "collapsed": false
   },
   "outputs": [],
   "source": [
    "target_transform = Lambda(lambda y: torch.zeros(\n",
    "    10, dtype=torch.float).scatter_(dim=0, index=torch.tensor(y), value=1))"
   ]
  },
  {
   "cell_type": "markdown",
   "metadata": {},
   "source": [
    "------------------------------------------------------------------------\n"
   ]
  },
  {
   "cell_type": "markdown",
   "metadata": {},
   "source": [
    "延伸阅读\n",
    "===============\n",
    "\n",
    "-   [torchvision.transforms\n",
    "    API](https://pytorch.org/vision/stable/transforms.html)\n"
   ]
  }
 ],
 "metadata": {
  "kernelspec": {
   "display_name": "Python 3",
   "language": "python",
   "name": "python3"
  },
  "language_info": {
   "codemirror_mode": {
    "name": "ipython",
    "version": 3
   },
   "file_extension": ".py",
   "mimetype": "text/x-python",
   "name": "python",
   "nbconvert_exporter": "python",
   "pygments_lexer": "ipython3",
   "version": "3.10.14"
  }
 },
 "nbformat": 4,
 "nbformat_minor": 0
}
